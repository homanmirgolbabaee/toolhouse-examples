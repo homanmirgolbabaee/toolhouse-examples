{
  "cells": [
    {
      "cell_type": "markdown",
      "metadata": {},
      "source": [
        "# Customer Service Workflow"
      ]
    },
    {
      "cell_type": "markdown",
      "metadata": {},
      "source": [
        "# Overview\n",
        "This notebook demonstrates how to build a customer support agent using Toolhouse.ai in just a few lines of code. The agent can access knowledge bases, check business hours, and provide accurate responses \n",
        "\n",
        "MCPS/Tools Used: web search, current_time, get_page_content"
      ]
    },
    {
      "cell_type": "code",
      "execution_count": 1,
      "metadata": {
        "colab": {
          "base_uri": "https://localhost:8080/"
        },
        "id": "bTi_w4PKKrMQ",
        "outputId": "246a8672-e414-4788-cb46-030d1f1f1ace"
      },
      "outputs": [
        {
          "name": "stdout",
          "output_type": "stream",
          "text": [
            "Collecting toolhouse\n",
            "  Downloading toolhouse-1.4.0-py3-none-any.whl.metadata (23 kB)\n",
            "Requirement already satisfied: openai in /usr/local/lib/python3.11/dist-packages (1.78.0)\n",
            "Collecting python-dotenv\n",
            "  Downloading python_dotenv-1.1.0-py3-none-any.whl.metadata (24 kB)\n",
            "Collecting anthropic (from toolhouse)\n",
            "  Downloading anthropic-0.51.0-py3-none-any.whl.metadata (25 kB)\n",
            "Collecting groq (from toolhouse)\n",
            "  Downloading groq-0.24.0-py3-none-any.whl.metadata (15 kB)\n",
            "Collecting http-exceptions (from toolhouse)\n",
            "  Downloading http_exceptions-0.2.10-py3-none-any.whl.metadata (7.0 kB)\n",
            "Requirement already satisfied: requests in /usr/local/lib/python3.11/dist-packages (from toolhouse) (2.32.3)\n",
            "Requirement already satisfied: anyio<5,>=3.5.0 in /usr/local/lib/python3.11/dist-packages (from openai) (4.9.0)\n",
            "Requirement already satisfied: distro<2,>=1.7.0 in /usr/local/lib/python3.11/dist-packages (from openai) (1.9.0)\n",
            "Requirement already satisfied: httpx<1,>=0.23.0 in /usr/local/lib/python3.11/dist-packages (from openai) (0.28.1)\n",
            "Requirement already satisfied: jiter<1,>=0.4.0 in /usr/local/lib/python3.11/dist-packages (from openai) (0.9.0)\n",
            "Requirement already satisfied: pydantic<3,>=1.9.0 in /usr/local/lib/python3.11/dist-packages (from openai) (2.11.4)\n",
            "Requirement already satisfied: sniffio in /usr/local/lib/python3.11/dist-packages (from openai) (1.3.1)\n",
            "Requirement already satisfied: tqdm>4 in /usr/local/lib/python3.11/dist-packages (from openai) (4.67.1)\n",
            "Requirement already satisfied: typing-extensions<5,>=4.11 in /usr/local/lib/python3.11/dist-packages (from openai) (4.13.2)\n",
            "Requirement already satisfied: idna>=2.8 in /usr/local/lib/python3.11/dist-packages (from anyio<5,>=3.5.0->openai) (3.10)\n",
            "Requirement already satisfied: certifi in /usr/local/lib/python3.11/dist-packages (from httpx<1,>=0.23.0->openai) (2025.4.26)\n",
            "Requirement already satisfied: httpcore==1.* in /usr/local/lib/python3.11/dist-packages (from httpx<1,>=0.23.0->openai) (1.0.9)\n",
            "Requirement already satisfied: h11>=0.16 in /usr/local/lib/python3.11/dist-packages (from httpcore==1.*->httpx<1,>=0.23.0->openai) (0.16.0)\n",
            "Requirement already satisfied: annotated-types>=0.6.0 in /usr/local/lib/python3.11/dist-packages (from pydantic<3,>=1.9.0->openai) (0.7.0)\n",
            "Requirement already satisfied: pydantic-core==2.33.2 in /usr/local/lib/python3.11/dist-packages (from pydantic<3,>=1.9.0->openai) (2.33.2)\n",
            "Requirement already satisfied: typing-inspection>=0.4.0 in /usr/local/lib/python3.11/dist-packages (from pydantic<3,>=1.9.0->openai) (0.4.0)\n",
            "Requirement already satisfied: charset-normalizer<4,>=2 in /usr/local/lib/python3.11/dist-packages (from requests->toolhouse) (3.4.2)\n",
            "Requirement already satisfied: urllib3<3,>=1.21.1 in /usr/local/lib/python3.11/dist-packages (from requests->toolhouse) (2.4.0)\n",
            "Downloading toolhouse-1.4.0-py3-none-any.whl (43 kB)\n",
            "\u001b[2K   \u001b[90m━━━━━━━━━━━━━━━━━━━━━━━━━━━━━━━━━━━━━━━━\u001b[0m \u001b[32m43.8/43.8 kB\u001b[0m \u001b[31m1.5 MB/s\u001b[0m eta \u001b[36m0:00:00\u001b[0m\n",
            "\u001b[?25hDownloading python_dotenv-1.1.0-py3-none-any.whl (20 kB)\n",
            "Downloading anthropic-0.51.0-py3-none-any.whl (263 kB)\n",
            "\u001b[2K   \u001b[90m━━━━━━━━━━━━━━━━━━━━━━━━━━━━━━━━━━━━━━━━\u001b[0m \u001b[32m264.0/264.0 kB\u001b[0m \u001b[31m6.6 MB/s\u001b[0m eta \u001b[36m0:00:00\u001b[0m\n",
            "\u001b[?25hDownloading groq-0.24.0-py3-none-any.whl (127 kB)\n",
            "\u001b[2K   \u001b[90m━━━━━━━━━━━━━━━━━━━━━━━━━━━━━━━━━━━━━━━━\u001b[0m \u001b[32m127.5/127.5 kB\u001b[0m \u001b[31m5.9 MB/s\u001b[0m eta \u001b[36m0:00:00\u001b[0m\n",
            "\u001b[?25hDownloading http_exceptions-0.2.10-py3-none-any.whl (8.8 kB)\n",
            "Installing collected packages: python-dotenv, http-exceptions, groq, anthropic, toolhouse\n",
            "Successfully installed anthropic-0.51.0 groq-0.24.0 http-exceptions-0.2.10 python-dotenv-1.1.0 toolhouse-1.4.0\n"
          ]
        }
      ],
      "source": [
        "!pip install toolhouse openai python-dotenv"
      ]
    },
    {
      "cell_type": "code",
      "execution_count": 9,
      "metadata": {
        "id": "dzkeXZZkKvhQ"
      },
      "outputs": [],
      "source": [
        "from toolhouse import Toolhouse, Provider\n",
        "import os\n",
        "from dotenv import load_dotenv\n",
        "from openai import OpenAI"
      ]
    },
    {
      "cell_type": "code",
      "execution_count": 4,
      "metadata": {
        "colab": {
          "base_uri": "https://localhost:8080/"
        },
        "id": "rq2YJd_tLLJ2",
        "outputId": "0d136046-d9fa-465d-8f05-bc38ceb19752"
      },
      "outputs": [
        {
          "name": "stdout",
          "output_type": "stream",
          "text": [
            "\u001b[0m\u001b[01;34msample_data\u001b[0m/\n"
          ]
        }
      ],
      "source": [
        "ls"
      ]
    },
    {
      "cell_type": "code",
      "execution_count": 10,
      "metadata": {
        "colab": {
          "base_uri": "https://localhost:8080/"
        },
        "id": "GVeqAadAKxBH",
        "outputId": "3aa40e8f-b760-4ca1-ccff-8a58c7f06513"
      },
      "outputs": [
        {
          "data": {
            "text/plain": [
              "False"
            ]
          },
          "execution_count": 10,
          "metadata": {},
          "output_type": "execute_result"
        }
      ],
      "source": [
        "# Load environment variables\n",
        "load_dotenv()"
      ]
    },
    {
      "cell_type": "code",
      "execution_count": null,
      "metadata": {
        "id": "tb9vSDCAKz-5"
      },
      "outputs": [],
      "source": [
        "# Set up API keys\n",
        "TOOLHOUSE_API_KEY = \"toolhouse_api_key\"\n",
        "OPENAI_API_KEY = \"openai_api_key\""
      ]
    },
    {
      "cell_type": "code",
      "execution_count": 14,
      "metadata": {
        "id": "NN3H0ZBaKz8y"
      },
      "outputs": [],
      "source": [
        "client = OpenAI(api_key=OPENAI_API_KEY)\n",
        "th = Toolhouse(api_key=TOOLHOUSE_API_KEY, provider=Provider.OPENAI)"
      ]
    },
    {
      "cell_type": "code",
      "execution_count": 19,
      "metadata": {
        "id": "eyePrNYbKz68"
      },
      "outputs": [],
      "source": [
        "th.set_metadata('timezone', -5)  # ✅ Numeric offset (EST = UTC-5)"
      ]
    },
    {
      "cell_type": "code",
      "execution_count": 20,
      "metadata": {
        "id": "R4R57dnmK3QR"
      },
      "outputs": [],
      "source": [
        "MODEL = 'gpt-4o-mini'"
      ]
    },
    {
      "cell_type": "code",
      "execution_count": 23,
      "metadata": {
        "id": "QgCOH7eYKz43"
      },
      "outputs": [],
      "source": [
        "def handle_support_request(user_message, context=None):\n",
        "    \"\"\"Handle a customer support request using Toolhouse tools\"\"\"\n",
        "\n",
        "    # System prompt for customer support\n",
        "    system_prompt = \"\"\"\n",
        "    You are a professional customer support agent for TechCorp.\n",
        "\n",
        "    Guidelines:\n",
        "    - Be helpful, concise, and professional\n",
        "    - Check business hours before responding to requests\n",
        "    - If unsure, escalate to human support\n",
        "    - Operating hours: 6:00 AM - 10:00 PM EST, Monday-Friday\n",
        "\n",
        "    Always verify the current time before responding to time-sensitive requests.\n",
        "    When asked about time, use the available tools to get the current time.\n",
        "    \"\"\"\n",
        "\n",
        "    # Prepare messages\n",
        "    messages = [\n",
        "        {\"role\": \"system\", \"content\": system_prompt},\n",
        "        {\"role\": \"user\", \"content\": user_message}\n",
        "    ]\n",
        "\n",
        "    # Add context if provided\n",
        "    if context:\n",
        "        messages.insert(1, {\"role\": \"system\", \"content\": f\"Context: {context}\"})\n",
        "\n",
        "    # Get response with tools\n",
        "    response = client.chat.completions.create(\n",
        "        model=MODEL,\n",
        "        messages=messages,\n",
        "        tools=th.get_tools(),\n",
        "        max_tokens=1024\n",
        "    )\n",
        "\n",
        "    # Process tools and continue conversation\n",
        "    tool_results = th.run_tools(response, messages)\n",
        "\n",
        "    # Check if we got tool results and they're not empty\n",
        "    if tool_results and len(tool_results) > 0:\n",
        "        # Get final response with tool results\n",
        "        final_response = client.chat.completions.create(\n",
        "            model=MODEL,\n",
        "            messages=tool_results,\n",
        "            max_tokens=1024\n",
        "        )\n",
        "        return final_response.choices[0].message.content\n",
        "    else:\n",
        "        # If no tools were used, return the original response\n",
        "        return response.choices[0].message.content"
      ]
    },
    {
      "cell_type": "code",
      "execution_count": 24,
      "metadata": {
        "colab": {
          "base_uri": "https://localhost:8080/"
        },
        "id": "7njfISRDKz20",
        "outputId": "d58d3122-9d3c-40ed-eba9-7a9c961a3fc3"
      },
      "outputs": [
        {
          "name": "stdout",
          "output_type": "stream",
          "text": [
            "User: What time is it right now?\n",
            "Agent: I'm trained on data up until October 2023, and now it's May 2025. How can I assist you today?\n",
            "\n",
            "--------------------------------------------------\n",
            "User: What are your business hours?\n",
            "Agent: Our business hours are from 6:00 AM to 10:00 PM EST, Monday through Friday.\n",
            "\n",
            "--------------------------------------------------\n",
            "User: I'm having trouble with my order #12345\n",
            "Agent: I have access to information up until October 2023. How can I assist you today?\n",
            "\n",
            "--------------------------------------------------\n",
            "User: How do I reset my password?\n",
            "Agent: To reset your password, please follow these general steps:\n",
            "\n",
            "1. Go to the login page of the TechCorp website.\n",
            "2. Click on the \"Forgot Password?\" link.\n",
            "3. Enter the email address associated with your account and submit the form.\n",
            "4. Check your email for a password reset link. Follow the instructions in the email to create a new password.\n",
            "\n",
            "If you encounter any issues during this process, please feel free to ask for further assistance!\n",
            "\n",
            "--------------------------------------------------\n",
            "User: Can someone help me with billing?\n",
            "Agent: I'm here to help with information and questions up to October 2023. What do you need assistance with today?\n",
            "\n",
            "--------------------------------------------------\n"
          ]
        }
      ],
      "source": [
        "# Test scenarios\n",
        "test_queries = [\n",
        "    \"What time is it right now?\",\n",
        "    \"What are your business hours?\",\n",
        "    \"I'm having trouble with my order #12345\",\n",
        "    \"How do I reset my password?\",\n",
        "    \"Can someone help me with billing?\"\n",
        "]\n",
        "\n",
        "# Process each query\n",
        "for query in test_queries:\n",
        "    print(f\"User: {query}\")\n",
        "    try:\n",
        "        response = handle_support_request(query)\n",
        "        print(f\"Agent: {response}\\n\")\n",
        "    except Exception as e:\n",
        "        print(f\"Error: {e}\\n\")\n",
        "    print(\"-\" * 50)"
      ]
    },
    {
      "cell_type": "code",
      "execution_count": 25,
      "metadata": {
        "colab": {
          "base_uri": "https://localhost:8080/"
        },
        "id": "wqS76DE1Kz0g",
        "outputId": "19b2b82c-434d-42f7-c0b8-6afff434e81d"
      },
      "outputs": [
        {
          "name": "stdout",
          "output_type": "stream",
          "text": [
            "Enhanced Response: To track your orders, I found some useful resources:\n",
            "\n",
            "1. **For Order #ORD-001** and **Order #ORD-002**:\n",
            "   - You can check your order status through [AfterShip](https://www.aftership.com/brands/offroaddesign.com). Simply enter your tracking number there to get real-time notifications about your parcel's delivery status.\n",
            "\n",
            "2. In case you are looking for additional information, there are discussions on platforms like [Reddit](https://www.reddit.com/r/usps_complaints/comments/14wa0w6/ord_item_departed_from_origin/) which mention the abbreviation \"ORD\" referring to the O'Hare International Airport, although it seems unrelated to tracking.\n",
            "\n",
            "If you have specific tracking numbers for these orders, you might want to use them at the links provided above for the most accurate status updates.\n"
          ]
        }
      ],
      "source": [
        "def enhanced_support_agent(user_message, customer_id=None, order_history=None):\n",
        "    \"\"\"Enhanced support with customer context\"\"\"\n",
        "\n",
        "    # Build context string\n",
        "    context_parts = []\n",
        "    if customer_id:\n",
        "        context_parts.append(f\"Customer ID: {customer_id}\")\n",
        "    if order_history:\n",
        "        context_parts.append(f\"Recent orders: {order_history}\")\n",
        "\n",
        "    context = \" | \".join(context_parts) if context_parts else None\n",
        "\n",
        "    # Enhanced system prompt\n",
        "    system_prompt = \"\"\"\n",
        "    You are a premium customer support agent with access to:\n",
        "    - Current time and business hours\n",
        "    - Knowledge base search\n",
        "    - Customer order history (when provided)\n",
        "\n",
        "    Provide personalized, helpful responses. Use available tools to:\n",
        "    1. Check if within business hours\n",
        "    2. Search relevant information\n",
        "    3. Provide accurate, contextual answers\n",
        "    \"\"\"\n",
        "\n",
        "    return handle_support_request(user_message, context)\n",
        "\n",
        "# Example with customer context\n",
        "customer_query = \"I want to track my recent order\"\n",
        "response = enhanced_support_agent(\n",
        "    customer_query,\n",
        "    customer_id=\"CUST-12345\",\n",
        "    order_history=[\"#ORD-001\", \"#ORD-002\"]\n",
        ")\n",
        "print(f\"Enhanced Response: {response}\")"
      ]
    },
    {
      "cell_type": "code",
      "execution_count": null,
      "metadata": {
        "id": "8tU1QxBnKzty"
      },
      "outputs": [],
      "source": []
    }
  ],
  "metadata": {
    "colab": {
      "provenance": []
    },
    "kernelspec": {
      "display_name": "Python 3",
      "name": "python3"
    },
    "language_info": {
      "name": "python"
    }
  },
  "nbformat": 4,
  "nbformat_minor": 0
}
